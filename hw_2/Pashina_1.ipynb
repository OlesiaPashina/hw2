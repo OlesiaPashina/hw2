{
  "nbformat": 4,
  "nbformat_minor": 0,
  "metadata": {
    "colab": {
      "provenance": []
    },
    "kernelspec": {
      "name": "python3",
      "display_name": "Python 3"
    },
    "language_info": {
      "name": "python"
    }
  },
  "cells": [
    {
      "cell_type": "code",
      "execution_count": 1,
      "metadata": {
        "id": "UayICOIMisl6"
      },
      "outputs": [],
      "source": [
        "class Chocolate:\n",
        "\n",
        "  def __init__(self, price: float, add_ingredient: str = None):\n",
        "    if price > 0:\n",
        "      self.price = price\n",
        "    else:\n",
        "      raise ValueError(f\"Price cannot be non-positive: {price}\")\n",
        "    self.add_ingredient = add_ingredient\n",
        "\n",
        "  def show_my_chocolate(self):\n",
        "    if self.add_ingredient is not None:\n",
        "       print(f\"Шоколадный батончик, добавка: {self.add_ingredient}\")\n",
        "    else:\n",
        "       print(f\"Обычный шоколадный батончик\")\n",
        "\n",
        "  def __str__(self):\n",
        "     return f\"Шоколадный батончик, {self.price} рублей\"\n"
      ]
    },
    {
      "cell_type": "code",
      "source": [
        "ch1 = Chocolate(500, 'raisin')\n",
        "print(ch1)\n",
        "ch1.show_my_chocolate()"
      ],
      "metadata": {
        "colab": {
          "base_uri": "https://localhost:8080/"
        },
        "id": "CrzkCj3anjlD",
        "outputId": "cd1de00a-102b-4dc4-dd2f-7d24283b144e"
      },
      "execution_count": 2,
      "outputs": [
        {
          "output_type": "stream",
          "name": "stdout",
          "text": [
            "Шоколадный батончик, 500 рублей\n",
            "Шоколадный батончик, добавка: raisin\n"
          ]
        }
      ]
    },
    {
      "cell_type": "code",
      "source": [
        "ch2 = Chocolate(-20, 'raisin')\n",
        "print(ch2)"
      ],
      "metadata": {
        "colab": {
          "base_uri": "https://localhost:8080/",
          "height": 280
        },
        "id": "9Hy6_VdEn92j",
        "outputId": "751f940b-7883-43f5-cf95-dbb85f962c1e"
      },
      "execution_count": 5,
      "outputs": [
        {
          "output_type": "error",
          "ename": "ValueError",
          "evalue": "Price cannot be non-positive: -20",
          "traceback": [
            "\u001b[0;31m---------------------------------------------------------------------------\u001b[0m",
            "\u001b[0;31mValueError\u001b[0m                                Traceback (most recent call last)",
            "\u001b[0;32m<ipython-input-5-20618f29b966>\u001b[0m in \u001b[0;36m<cell line: 0>\u001b[0;34m()\u001b[0m\n\u001b[0;32m----> 1\u001b[0;31m \u001b[0mch2\u001b[0m \u001b[0;34m=\u001b[0m \u001b[0mChocolate\u001b[0m\u001b[0;34m(\u001b[0m\u001b[0;34m-\u001b[0m\u001b[0;36m20\u001b[0m\u001b[0;34m,\u001b[0m \u001b[0;34m'raisin'\u001b[0m\u001b[0;34m)\u001b[0m\u001b[0;34m\u001b[0m\u001b[0;34m\u001b[0m\u001b[0m\n\u001b[0m\u001b[1;32m      2\u001b[0m \u001b[0mprint\u001b[0m\u001b[0;34m(\u001b[0m\u001b[0mch2\u001b[0m\u001b[0;34m)\u001b[0m\u001b[0;34m\u001b[0m\u001b[0;34m\u001b[0m\u001b[0m\n",
            "\u001b[0;32m<ipython-input-1-57acb4501acb>\u001b[0m in \u001b[0;36m__init__\u001b[0;34m(self, price, add_ingredient)\u001b[0m\n\u001b[1;32m      5\u001b[0m       \u001b[0mself\u001b[0m\u001b[0;34m.\u001b[0m\u001b[0mprice\u001b[0m \u001b[0;34m=\u001b[0m \u001b[0mprice\u001b[0m\u001b[0;34m\u001b[0m\u001b[0;34m\u001b[0m\u001b[0m\n\u001b[1;32m      6\u001b[0m     \u001b[0;32melse\u001b[0m\u001b[0;34m:\u001b[0m\u001b[0;34m\u001b[0m\u001b[0;34m\u001b[0m\u001b[0m\n\u001b[0;32m----> 7\u001b[0;31m       \u001b[0;32mraise\u001b[0m \u001b[0mValueError\u001b[0m\u001b[0;34m(\u001b[0m\u001b[0;34mf\"Price cannot be non-positive: {price}\"\u001b[0m\u001b[0;34m)\u001b[0m\u001b[0;34m\u001b[0m\u001b[0;34m\u001b[0m\u001b[0m\n\u001b[0m\u001b[1;32m      8\u001b[0m     \u001b[0mself\u001b[0m\u001b[0;34m.\u001b[0m\u001b[0madd_ingredient\u001b[0m \u001b[0;34m=\u001b[0m \u001b[0madd_ingredient\u001b[0m\u001b[0;34m\u001b[0m\u001b[0;34m\u001b[0m\u001b[0m\n\u001b[1;32m      9\u001b[0m \u001b[0;34m\u001b[0m\u001b[0m\n",
            "\u001b[0;31mValueError\u001b[0m: Price cannot be non-positive: -20"
          ]
        }
      ]
    },
    {
      "cell_type": "code",
      "source": [
        "ch3 = Chocolate(500)\n",
        "ch3.show_my_chocolate()"
      ],
      "metadata": {
        "colab": {
          "base_uri": "https://localhost:8080/"
        },
        "id": "HW_iLAhvoI9v",
        "outputId": "a910c70d-14d3-45a4-f758-f5086c802aa8"
      },
      "execution_count": 6,
      "outputs": [
        {
          "output_type": "stream",
          "name": "stdout",
          "text": [
            "Обычный шоколадный батончик\n"
          ]
        }
      ]
    },
    {
      "cell_type": "code",
      "source": [],
      "metadata": {
        "id": "_7pzW26tsGLX"
      },
      "execution_count": null,
      "outputs": []
    }
  ]
}